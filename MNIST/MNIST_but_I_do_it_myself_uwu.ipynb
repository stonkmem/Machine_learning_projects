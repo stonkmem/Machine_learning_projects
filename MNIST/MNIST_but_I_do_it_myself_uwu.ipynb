{
  "nbformat": 4,
  "nbformat_minor": 0,
  "metadata": {
    "colab": {
      "name": "MNIST_but I do it myself uwu.ipynb",
      "provenance": [],
      "collapsed_sections": []
    },
    "kernelspec": {
      "name": "python3",
      "display_name": "Python 3"
    },
    "language_info": {
      "name": "python"
    }
  },
  "cells": [
    {
      "cell_type": "markdown",
      "metadata": {
        "id": "jQG3h1bRo11f"
      },
      "source": [
        "##Hi!\n",
        " I'm going to do an MNIST prject to see if I can make this mself, from scratch, using only documentation. Los geht's!"
      ]
    },
    {
      "cell_type": "markdown",
      "metadata": {
        "id": "8G682fW_pC0p"
      },
      "source": [
        "#Imports\n",
        "For this project, we'll be importing\n",
        "\n",
        "*   Tensorflow, for our Machine learning model\n",
        "*   tf.keras, because laziness\n",
        "*   le dataset MNIST\n",
        "*   numpy, for later on, where we'll make an image into an np array and run it through the model!\n",
        "*   PIL. This is new to me, but I needed it for my image --> np array conversion.\n",
        "\n",
        "\n",
        "\n"
      ]
    },
    {
      "cell_type": "code",
      "metadata": {
        "id": "T-OKjfaktg0E",
        "colab": {
          "base_uri": "https://localhost:8080/"
        },
        "outputId": "eace0efa-2b6e-41da-a718-ff2fb26d90c5"
      },
      "source": [
        "import tensorflow as tf\n",
        "import keras\n",
        "import tensorflow.keras.datasets.mnist as fnist #You can also try: import tensorflow.keras.datasets.fashion_mnist as fnist if you want some fashion classifiction\n",
        "import numpy as np\n",
        "import PIL\n",
        "print(\"Imported! \\nPIL's version is: \" + str(PIL.__version__))"
      ],
      "execution_count": null,
      "outputs": [
        {
          "output_type": "stream",
          "name": "stdout",
          "text": [
            "Imported! \n",
            "PIL's version is: 7.1.2\n"
          ]
        }
      ]
    },
    {
      "cell_type": "markdown",
      "metadata": {
        "id": "1L6UHcMup3Bk"
      },
      "source": [
        "#Data\n",
        "So over here, not much is to be done except for normalising the data. (converting it from a scale of 0 to 255 to a scale of 0 to 1"
      ]
    },
    {
      "cell_type": "code",
      "metadata": {
        "id": "7N-08cR3h7w0",
        "colab": {
          "base_uri": "https://localhost:8080/"
        },
        "outputId": "41649c90-47bf-4c4f-affa-84e73a7155df"
      },
      "source": [
        "(x_train, y_train), (x_test, y_test) = fnist.load_data()\n",
        "x_train = x_train/255\n",
        "x_test = x_test/255\n"
      ],
      "execution_count": null,
      "outputs": [
        {
          "output_type": "stream",
          "name": "stdout",
          "text": [
            "Downloading data from https://storage.googleapis.com/tensorflow/tf-keras-datasets/mnist.npz\n",
            "11493376/11490434 [==============================] - 0s 0us/step\n",
            "11501568/11490434 [==============================] - 0s 0us/step\n"
          ]
        }
      ]
    },
    {
      "cell_type": "markdown",
      "metadata": {
        "id": "cEokpuv-qVzS"
      },
      "source": [
        "####(Extras)\n",
        "(Go on, try it!)\n",
        "```\n",
        "#If you want to see a letter, uncomment this section of the code\n",
        "import matplotlib.pyplot as plt\n",
        "plt.imshow(x_train[666]) #Change the number to see the letter!\n",
        "```"
      ]
    },
    {
      "cell_type": "code",
      "metadata": {
        "colab": {
          "base_uri": "https://localhost:8080/",
          "height": 282
        },
        "id": "lI9DWh-GqmrD",
        "outputId": "22d3982e-78c2-4e86-c688-c039273fe836"
      },
      "source": [
        "# If you want to see a letter, uncomment this section of the code\n",
        "import matplotlib.pyplot as plt\n",
        "plt.imshow(x_train[696]) #Change the number to see the letter!"
      ],
      "execution_count": 12,
      "outputs": [
        {
          "output_type": "execute_result",
          "data": {
            "text/plain": [
              "<matplotlib.image.AxesImage at 0x7f1cc5cf1650>"
            ]
          },
          "metadata": {},
          "execution_count": 12
        },
        {
          "output_type": "display_data",
          "data": {
            "image/png": "[encoded data removed]",
            "text/plain": [
              "<Figure size 432x288 with 1 Axes>"
            ]
          },
          "metadata": {
            "needs_background": "light"
          }
        }
      ]
    },
    {
      "cell_type": "markdown",
      "metadata": {
        "id": "KXLZVbQlqqhb"
      },
      "source": [
        "#Modelling\n",
        "Here, we make the model. Not too complicated, just a simple neural network.\\\n",
        "The layers:\n",
        "* Flattern, to make our 2D Numpy arays into good 1D ones\n",
        "* Dense, to do the work.\n",
        "* Our final output layer, outputting the highest possibility of them all."
      ]
    },
    {
      "cell_type": "code",
      "metadata": {
        "id": "0raBD9Ul_B_I",
        "colab": {
          "base_uri": "https://localhost:8080/"
        },
        "outputId": "6bf2027b-fd35-4c42-8d47-0b1a345ea852"
      },
      "source": [
        "model = keras.models.Sequential([\n",
        "    keras.layers.Flatten(),\n",
        "    keras.layers.Dense(512, activation='relu'),\n",
        "    keras.layers.Dense(10, activation='softmax')\n",
        "])\n",
        "class lossgobrr(keras.callbacks.Callback):\n",
        "  def on_epoch_end(self, epoch, logs={}):\n",
        "    if (logs.get('loss')<0.05):\n",
        "      self.model.stop_training = True\n",
        "      print(\"UwU Loss low\")\n",
        "lossgobrrw = lossgobrr()\n",
        "model.compile(optimizer=\"Adam\", loss=\"SparseCategoricalCrossentropy\")\n",
        "model.fit(x_train, y_train, epochs=100, callbacks=[lossgobrrw])\n",
        "model.evaluate(x_test, y_test)"
      ],
      "execution_count": 14,
      "outputs": [
        {
          "output_type": "stream",
          "name": "stdout",
          "text": [
            "Epoch 1/100\n",
            "1875/1875 [==============================] - 8s 4ms/step - loss: 0.2015\n",
            "Epoch 2/100\n",
            "1875/1875 [==============================] - 7s 4ms/step - loss: 0.0806\n",
            "Epoch 3/100\n",
            "1875/1875 [==============================] - 7s 4ms/step - loss: 0.0530\n",
            "Epoch 4/100\n",
            "1875/1875 [==============================] - 7s 4ms/step - loss: 0.0376\n",
            "UwU Loss low\n",
            "313/313 [==============================] - 1s 2ms/step - loss: 0.0665\n"
          ]
        },
        {
          "output_type": "execute_result",
          "data": {
            "text/plain": [
              "0.06652680784463882"
            ]
          },
          "metadata": {},
          "execution_count": 14
        }
      ]
    }
  ]
}